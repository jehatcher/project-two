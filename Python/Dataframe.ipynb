{
 "cells": [
  {
   "cell_type": "code",
   "execution_count": 28,
   "metadata": {},
   "outputs": [],
   "source": [
    "import pandas as pd\n",
    "import requests\n",
    "import json\n",
    "from datetime import datetime\n",
    "import time\n",
    "from sqlalchemy import create_engine\n",
    "from pandas.io.json import json_normalize"
   ]
  },
  {
   "cell_type": "code",
   "execution_count": 29,
   "metadata": {},
   "outputs": [
    {
     "name": "stdout",
     "output_type": "stream",
     "text": [
      "<Response [200]>\n"
     ]
    }
   ],
   "source": [
    "url=\"https://maps2.dcgis.dc.gov/dcgis/rest/services/FEEDS/MPD/MapServer/1/query?where=1%3D1&outFields=*&outSR=4326&f=json\"\n",
    "print(requests.get(url))"
   ]
  },
  {
   "cell_type": "code",
   "execution_count": 30,
   "metadata": {
    "scrolled": false
   },
   "outputs": [],
   "source": [
    "dc_data = requests.get(url).json()\n",
    "# print(json.dumps(dc_data, indent=4, sort_keys=True))"
   ]
  },
  {
   "cell_type": "code",
   "execution_count": 31,
   "metadata": {
    "scrolled": false
   },
   "outputs": [
    {
     "data": {
      "text/html": [
       "<div>\n",
       "<style scoped>\n",
       "    .dataframe tbody tr th:only-of-type {\n",
       "        vertical-align: middle;\n",
       "    }\n",
       "\n",
       "    .dataframe tbody tr th {\n",
       "        vertical-align: top;\n",
       "    }\n",
       "\n",
       "    .dataframe thead th {\n",
       "        text-align: right;\n",
       "    }\n",
       "</style>\n",
       "<table border=\"1\" class=\"dataframe\">\n",
       "  <thead>\n",
       "    <tr style=\"text-align: right;\">\n",
       "      <th></th>\n",
       "      <th>ccn</th>\n",
       "      <th>district</th>\n",
       "      <th>start_date</th>\n",
       "      <th>offense</th>\n",
       "      <th>latitude</th>\n",
       "      <th>longitude</th>\n",
       "      <th>shift</th>\n",
       "    </tr>\n",
       "  </thead>\n",
       "  <tbody>\n",
       "    <tr>\n",
       "      <th>0</th>\n",
       "      <td>10199597</td>\n",
       "      <td>1</td>\n",
       "      <td>1573123012000</td>\n",
       "      <td>THEFT/OTHER</td>\n",
       "      <td>38.8876</td>\n",
       "      <td>-76.9829</td>\n",
       "      <td>DAY</td>\n",
       "    </tr>\n",
       "    <tr>\n",
       "      <th>1</th>\n",
       "      <td>17084415</td>\n",
       "      <td>7</td>\n",
       "      <td>1495234733000</td>\n",
       "      <td>HOMICIDE</td>\n",
       "      <td>38.8205</td>\n",
       "      <td>-77.0104</td>\n",
       "      <td>MIDNIGHT</td>\n",
       "    </tr>\n",
       "    <tr>\n",
       "      <th>2</th>\n",
       "      <td>19012540</td>\n",
       "      <td>7</td>\n",
       "      <td>1548183447000</td>\n",
       "      <td>ROBBERY</td>\n",
       "      <td>38.8332</td>\n",
       "      <td>-76.9975</td>\n",
       "      <td>EVENING</td>\n",
       "    </tr>\n",
       "    <tr>\n",
       "      <th>3</th>\n",
       "      <td>19012550</td>\n",
       "      <td>4</td>\n",
       "      <td>1548184852000</td>\n",
       "      <td>THEFT/OTHER</td>\n",
       "      <td>38.9413</td>\n",
       "      <td>-77.0254</td>\n",
       "      <td>EVENING</td>\n",
       "    </tr>\n",
       "    <tr>\n",
       "      <th>4</th>\n",
       "      <td>19012562</td>\n",
       "      <td>2</td>\n",
       "      <td>1548180047000</td>\n",
       "      <td>THEFT F/AUTO</td>\n",
       "      <td>38.9034</td>\n",
       "      <td>-77.062</td>\n",
       "      <td>EVENING</td>\n",
       "    </tr>\n",
       "  </tbody>\n",
       "</table>\n",
       "</div>"
      ],
      "text/plain": [
       "        ccn district     start_date       offense latitude longitude     shift\n",
       "0  10199597        1  1573123012000   THEFT/OTHER  38.8876  -76.9829       DAY\n",
       "1  17084415        7  1495234733000      HOMICIDE  38.8205  -77.0104  MIDNIGHT\n",
       "2  19012540        7  1548183447000       ROBBERY  38.8332  -76.9975   EVENING\n",
       "3  19012550        4  1548184852000   THEFT/OTHER  38.9413  -77.0254   EVENING\n",
       "4  19012562        2  1548180047000  THEFT F/AUTO  38.9034   -77.062   EVENING"
      ]
     },
     "execution_count": 31,
     "metadata": {},
     "output_type": "execute_result"
    }
   ],
   "source": [
    "ccn = []\n",
    "district=[]\n",
    "start_date=[]\n",
    "offense=[]\n",
    "latitude=[]\n",
    "longitude=[]\n",
    "shift=[]\n",
    "\n",
    "for features in dc_data[\"features\"]:\n",
    "    ccn.append(features[u\"attributes\"][u'CCN'])\n",
    "    district.append(features[u\"attributes\"][u\"DISTRICT\"])\n",
    "    start_date.append(features[u\"attributes\"][u\"START_DATE\"])\n",
    "    offense.append(features[u\"attributes\"][u\"OFFENSE\"])\n",
    "    latitude.append(features[u\"attributes\"][u\"LATITUDE\"])\n",
    "    longitude.append(features[u\"attributes\"][u\"LONGITUDE\"])\n",
    "    shift.append(features[u\"attributes\"][u\"SHIFT\"])\n",
    "    \n",
    "df_dc=pd.DataFrame([ccn, district, start_date, offense, latitude, longitude, shift]).T\n",
    "\n",
    "df_dc.set_axis([\"ccn\", \"district\", \"start_date\",\n",
    "             \"offense\",\"latitude\",\"longitude\", \"shift\"], axis='columns', inplace=True)\n",
    "df_dc.head()\n"
   ]
  },
  {
   "cell_type": "code",
   "execution_count": 34,
   "metadata": {},
   "outputs": [
    {
     "data": {
      "text/plain": [
       "ccn           object\n",
       "district      object\n",
       "start_date    object\n",
       "offense       object\n",
       "latitude      object\n",
       "longitude     object\n",
       "shift         object\n",
       "dtype: object"
      ]
     },
     "execution_count": 34,
     "metadata": {},
     "output_type": "execute_result"
    }
   ],
   "source": [
    "df_dc.dtypes"
   ]
  },
  {
   "cell_type": "code",
   "execution_count": 35,
   "metadata": {},
   "outputs": [
    {
     "data": {
      "text/plain": [
       "['df_dc']"
      ]
     },
     "execution_count": 35,
     "metadata": {},
     "output_type": "execute_result"
    }
   ],
   "source": [
    "connection_string = \"postgres:postgres@localhost:5432/dc_crime\"\n",
    "engine = create_engine(f'postgresql://{connection_string}')\n",
    "engine.table_names()"
   ]
  },
  {
   "cell_type": "code",
   "execution_count": 36,
   "metadata": {
    "scrolled": true
   },
   "outputs": [
    {
     "data": {
      "text/html": [
       "<div>\n",
       "<style scoped>\n",
       "    .dataframe tbody tr th:only-of-type {\n",
       "        vertical-align: middle;\n",
       "    }\n",
       "\n",
       "    .dataframe tbody tr th {\n",
       "        vertical-align: top;\n",
       "    }\n",
       "\n",
       "    .dataframe thead th {\n",
       "        text-align: right;\n",
       "    }\n",
       "</style>\n",
       "<table border=\"1\" class=\"dataframe\">\n",
       "  <thead>\n",
       "    <tr style=\"text-align: right;\">\n",
       "      <th></th>\n",
       "      <th>ccn</th>\n",
       "      <th>district</th>\n",
       "      <th>start_date</th>\n",
       "      <th>offense</th>\n",
       "      <th>latitude</th>\n",
       "      <th>longitude</th>\n",
       "      <th>shift</th>\n",
       "    </tr>\n",
       "  </thead>\n",
       "  <tbody>\n",
       "    <tr>\n",
       "      <th>0</th>\n",
       "      <td>10199597</td>\n",
       "      <td>1</td>\n",
       "      <td>1573123012000</td>\n",
       "      <td>THEFT/OTHER</td>\n",
       "      <td>38.887592</td>\n",
       "      <td>-76.982941</td>\n",
       "      <td>DAY</td>\n",
       "    </tr>\n",
       "    <tr>\n",
       "      <th>1</th>\n",
       "      <td>17084415</td>\n",
       "      <td>7</td>\n",
       "      <td>1495234733000</td>\n",
       "      <td>HOMICIDE</td>\n",
       "      <td>38.820461</td>\n",
       "      <td>-77.010375</td>\n",
       "      <td>MIDNIGHT</td>\n",
       "    </tr>\n",
       "    <tr>\n",
       "      <th>2</th>\n",
       "      <td>19012540</td>\n",
       "      <td>7</td>\n",
       "      <td>1548183447000</td>\n",
       "      <td>ROBBERY</td>\n",
       "      <td>38.833209</td>\n",
       "      <td>-76.997512</td>\n",
       "      <td>EVENING</td>\n",
       "    </tr>\n",
       "    <tr>\n",
       "      <th>3</th>\n",
       "      <td>19012550</td>\n",
       "      <td>4</td>\n",
       "      <td>1548184852000</td>\n",
       "      <td>THEFT/OTHER</td>\n",
       "      <td>38.941334</td>\n",
       "      <td>-77.025388</td>\n",
       "      <td>EVENING</td>\n",
       "    </tr>\n",
       "    <tr>\n",
       "      <th>4</th>\n",
       "      <td>19012562</td>\n",
       "      <td>2</td>\n",
       "      <td>1548180047000</td>\n",
       "      <td>THEFT F/AUTO</td>\n",
       "      <td>38.903422</td>\n",
       "      <td>-77.061967</td>\n",
       "      <td>EVENING</td>\n",
       "    </tr>\n",
       "  </tbody>\n",
       "</table>\n",
       "</div>"
      ],
      "text/plain": [
       "        ccn district     start_date       offense   latitude  longitude  \\\n",
       "0  10199597        1  1573123012000   THEFT/OTHER  38.887592 -76.982941   \n",
       "1  17084415        7  1495234733000      HOMICIDE  38.820461 -77.010375   \n",
       "2  19012540        7  1548183447000       ROBBERY  38.833209 -76.997512   \n",
       "3  19012550        4  1548184852000   THEFT/OTHER  38.941334 -77.025388   \n",
       "4  19012562        2  1548180047000  THEFT F/AUTO  38.903422 -77.061967   \n",
       "\n",
       "      shift  \n",
       "0       DAY  \n",
       "1  MIDNIGHT  \n",
       "2   EVENING  \n",
       "3   EVENING  \n",
       "4   EVENING  "
      ]
     },
     "execution_count": 36,
     "metadata": {},
     "output_type": "execute_result"
    }
   ],
   "source": [
    "  "
   ]
  }
 ],
 "metadata": {
  "kernelspec": {
   "display_name": "Python 3",
   "language": "python",
   "name": "python3"
  },
  "language_info": {
   "codemirror_mode": {
    "name": "ipython",
    "version": 3
   },
   "file_extension": ".py",
   "mimetype": "text/x-python",
   "name": "python",
   "nbconvert_exporter": "python",
   "pygments_lexer": "ipython3",
   "version": "3.7.3"
  }
 },
 "nbformat": 4,
 "nbformat_minor": 2
}
